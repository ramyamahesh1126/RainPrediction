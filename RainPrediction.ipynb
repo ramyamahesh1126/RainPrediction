{
  "nbformat": 4,
  "nbformat_minor": 0,
  "metadata": {
    "colab": {
      "name": "Untitled2.ipynb",
      "provenance": [],
      "collapsed_sections": [],
      "authorship_tag": "ABX9TyMo/fuGkoZJTxY1jOvjnYMr",
      "include_colab_link": true
    },
    "kernelspec": {
      "name": "python3",
      "display_name": "Python 3"
    },
    "language_info": {
      "name": "python"
    }
  },
  "cells": [
    {
      "cell_type": "markdown",
      "metadata": {
        "id": "view-in-github",
        "colab_type": "text"
      },
      "source": [
        "<a href=\"https://colab.research.google.com/github/ramyamahesh1126/RainPrediction/blob/main/RainPrediction.ipynb\" target=\"_parent\"><img src=\"https://colab.research.google.com/assets/colab-badge.svg\" alt=\"Open In Colab\"/></a>"
      ]
    },
    {
      "cell_type": "markdown",
      "metadata": {
        "id": "FgxKc0__SlmF"
      },
      "source": [
        "This project is to predict the rainfall from weather report. Project involves cleaning the data, feature extraction amd modelling to predict the rainfall in a particular city. RandomForestRegressor method is used to predict the rainfall for a particluar region. \n",
        "Data set obtained from https://www.kaggle.com/PROPPG-PPG/hourly-weather-surface-brazil-southeast-region"
      ]
    },
    {
      "cell_type": "markdown",
      "metadata": {
        "id": "YsKWKWzZTVEt"
      },
      "source": [
        "Upload the data to google colab"
      ]
    },
    {
      "cell_type": "code",
      "metadata": {
        "colab": {
          "resources": {
            "http://localhost:8080/nbextensions/google.colab/files.js": {
              "data": "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",
              "ok": true,
              "headers": [
                [
                  "content-type",
                  "application/javascript"
                ]
              ],
              "status": 200,
              "status_text": ""
            }
          },
          "base_uri": "https://localhost:8080/",
          "height": 72
        },
        "id": "GYWMT0JUyuDk",
        "outputId": "a6031426-7998-4639-de69-e3c645083acb"
      },
      "source": [
        "from google.colab import files\n",
        "files.upload()"
      ],
      "execution_count": 3,
      "outputs": [
        {
          "output_type": "display_data",
          "data": {
            "text/html": [
              "\n",
              "     <input type=\"file\" id=\"files-09431ec3-6628-4d56-a8e2-ff9fe88612bd\" name=\"files[]\" multiple disabled\n",
              "        style=\"border:none\" />\n",
              "     <output id=\"result-09431ec3-6628-4d56-a8e2-ff9fe88612bd\">\n",
              "      Upload widget is only available when the cell has been executed in the\n",
              "      current browser session. Please rerun this cell to enable.\n",
              "      </output>\n",
              "      <script src=\"/nbextensions/google.colab/files.js\"></script> "
            ],
            "text/plain": [
              "<IPython.core.display.HTML object>"
            ]
          },
          "metadata": {}
        },
        {
          "output_type": "stream",
          "name": "stdout",
          "text": [
            "Saving RainPrediction.csv to RainPrediction.csv\n"
          ]
        }
      ]
    },
    {
      "cell_type": "markdown",
      "metadata": {
        "id": "LHf-BjLUWU82"
      },
      "source": [
        "Read the csv file and load the weather data into dataframe.\n",
        "Describe the dataset"
      ]
    },
    {
      "cell_type": "code",
      "metadata": {
        "colab": {
          "base_uri": "https://localhost:8080/",
          "height": 309
        },
        "id": "YKdPXXuTx5hX",
        "outputId": "f5228f11-b00b-4eb3-fef3-74c3da28333c"
      },
      "source": [
        "import pandas as pd\n",
        "import numpy as np\n",
        "df = pd.read_csv(\"/content/RainPrediction.csv\",skiprows=1)\n",
        "df.head()"
      ],
      "execution_count": 42,
      "outputs": [
        {
          "output_type": "execute_result",
          "data": {
            "text/html": [
              "<div>\n",
              "<style scoped>\n",
              "    .dataframe tbody tr th:only-of-type {\n",
              "        vertical-align: middle;\n",
              "    }\n",
              "\n",
              "    .dataframe tbody tr th {\n",
              "        vertical-align: top;\n",
              "    }\n",
              "\n",
              "    .dataframe thead th {\n",
              "        text-align: right;\n",
              "    }\n",
              "</style>\n",
              "<table border=\"1\" class=\"dataframe\">\n",
              "  <thead>\n",
              "    <tr style=\"text-align: right;\">\n",
              "      <th></th>\n",
              "      <th>wsid</th>\n",
              "      <th>wsnm</th>\n",
              "      <th>elvt</th>\n",
              "      <th>lat</th>\n",
              "      <th>lon</th>\n",
              "      <th>inme</th>\n",
              "      <th>city</th>\n",
              "      <th>prov</th>\n",
              "      <th>mdct</th>\n",
              "      <th>date</th>\n",
              "      <th>yr</th>\n",
              "      <th>mo</th>\n",
              "      <th>da</th>\n",
              "      <th>hr</th>\n",
              "      <th>prcp</th>\n",
              "      <th>stp</th>\n",
              "      <th>smax</th>\n",
              "      <th>smin</th>\n",
              "      <th>gbrd</th>\n",
              "      <th>temp</th>\n",
              "      <th>dewp</th>\n",
              "      <th>tmax</th>\n",
              "      <th>dmax</th>\n",
              "      <th>tmin</th>\n",
              "      <th>dmin</th>\n",
              "      <th>hmdy</th>\n",
              "      <th>hmax</th>\n",
              "      <th>hmin</th>\n",
              "      <th>wdsp</th>\n",
              "      <th>wdct</th>\n",
              "      <th>gust</th>\n",
              "    </tr>\n",
              "  </thead>\n",
              "  <tbody>\n",
              "    <tr>\n",
              "      <th>0</th>\n",
              "      <td>178</td>\n",
              "      <td>SÃO GONÇALO</td>\n",
              "      <td>237</td>\n",
              "      <td>-6.835777</td>\n",
              "      <td>-38.311583</td>\n",
              "      <td>A333</td>\n",
              "      <td>São Gonçalo</td>\n",
              "      <td>RJ</td>\n",
              "      <td>11/6/07 0:00</td>\n",
              "      <td>11/6/07</td>\n",
              "      <td>2007</td>\n",
              "      <td>11</td>\n",
              "      <td>6</td>\n",
              "      <td>0</td>\n",
              "      <td>NaN</td>\n",
              "      <td>982.5</td>\n",
              "      <td>982.5</td>\n",
              "      <td>981.3</td>\n",
              "      <td>NaN</td>\n",
              "      <td>29.3</td>\n",
              "      <td>12.1</td>\n",
              "      <td>29.7</td>\n",
              "      <td>16.8</td>\n",
              "      <td>25.5</td>\n",
              "      <td>10.8</td>\n",
              "      <td>35</td>\n",
              "      <td>58</td>\n",
              "      <td>32</td>\n",
              "      <td>3.2</td>\n",
              "      <td>101</td>\n",
              "      <td>6.5</td>\n",
              "    </tr>\n",
              "    <tr>\n",
              "      <th>1</th>\n",
              "      <td>178</td>\n",
              "      <td>SÃO GONÇALO</td>\n",
              "      <td>237</td>\n",
              "      <td>-6.835777</td>\n",
              "      <td>-38.311583</td>\n",
              "      <td>A333</td>\n",
              "      <td>São Gonçalo</td>\n",
              "      <td>RJ</td>\n",
              "      <td>11/6/07 1:00</td>\n",
              "      <td>11/6/07</td>\n",
              "      <td>2007</td>\n",
              "      <td>11</td>\n",
              "      <td>6</td>\n",
              "      <td>1</td>\n",
              "      <td>NaN</td>\n",
              "      <td>983.2</td>\n",
              "      <td>983.2</td>\n",
              "      <td>982.5</td>\n",
              "      <td>NaN</td>\n",
              "      <td>29.0</td>\n",
              "      <td>13.5</td>\n",
              "      <td>29.9</td>\n",
              "      <td>13.6</td>\n",
              "      <td>29.0</td>\n",
              "      <td>12.2</td>\n",
              "      <td>39</td>\n",
              "      <td>39</td>\n",
              "      <td>35</td>\n",
              "      <td>3.6</td>\n",
              "      <td>94</td>\n",
              "      <td>6.4</td>\n",
              "    </tr>\n",
              "    <tr>\n",
              "      <th>2</th>\n",
              "      <td>178</td>\n",
              "      <td>SÃO GONÇALO</td>\n",
              "      <td>237</td>\n",
              "      <td>-6.835777</td>\n",
              "      <td>-38.311583</td>\n",
              "      <td>A333</td>\n",
              "      <td>São Gonçalo</td>\n",
              "      <td>RJ</td>\n",
              "      <td>11/6/07 2:00</td>\n",
              "      <td>11/6/07</td>\n",
              "      <td>2007</td>\n",
              "      <td>11</td>\n",
              "      <td>6</td>\n",
              "      <td>2</td>\n",
              "      <td>NaN</td>\n",
              "      <td>983.5</td>\n",
              "      <td>983.5</td>\n",
              "      <td>983.2</td>\n",
              "      <td>NaN</td>\n",
              "      <td>27.4</td>\n",
              "      <td>14.0</td>\n",
              "      <td>29.0</td>\n",
              "      <td>14.0</td>\n",
              "      <td>27.4</td>\n",
              "      <td>13.6</td>\n",
              "      <td>44</td>\n",
              "      <td>44</td>\n",
              "      <td>39</td>\n",
              "      <td>2.5</td>\n",
              "      <td>93</td>\n",
              "      <td>6.9</td>\n",
              "    </tr>\n",
              "    <tr>\n",
              "      <th>3</th>\n",
              "      <td>178</td>\n",
              "      <td>SÃO GONÇALO</td>\n",
              "      <td>237</td>\n",
              "      <td>-6.835777</td>\n",
              "      <td>-38.311583</td>\n",
              "      <td>A333</td>\n",
              "      <td>São Gonçalo</td>\n",
              "      <td>RJ</td>\n",
              "      <td>11/6/07 3:00</td>\n",
              "      <td>11/6/07</td>\n",
              "      <td>2007</td>\n",
              "      <td>11</td>\n",
              "      <td>6</td>\n",
              "      <td>3</td>\n",
              "      <td>NaN</td>\n",
              "      <td>983.7</td>\n",
              "      <td>983.7</td>\n",
              "      <td>983.4</td>\n",
              "      <td>NaN</td>\n",
              "      <td>25.8</td>\n",
              "      <td>16.9</td>\n",
              "      <td>27.4</td>\n",
              "      <td>16.9</td>\n",
              "      <td>25.8</td>\n",
              "      <td>14.1</td>\n",
              "      <td>58</td>\n",
              "      <td>58</td>\n",
              "      <td>44</td>\n",
              "      <td>1.7</td>\n",
              "      <td>96</td>\n",
              "      <td>5.8</td>\n",
              "    </tr>\n",
              "    <tr>\n",
              "      <th>4</th>\n",
              "      <td>178</td>\n",
              "      <td>SÃO GONÇALO</td>\n",
              "      <td>237</td>\n",
              "      <td>-6.835777</td>\n",
              "      <td>-38.311583</td>\n",
              "      <td>A333</td>\n",
              "      <td>São Gonçalo</td>\n",
              "      <td>RJ</td>\n",
              "      <td>11/6/07 4:00</td>\n",
              "      <td>11/6/07</td>\n",
              "      <td>2007</td>\n",
              "      <td>11</td>\n",
              "      <td>6</td>\n",
              "      <td>4</td>\n",
              "      <td>NaN</td>\n",
              "      <td>983.7</td>\n",
              "      <td>983.8</td>\n",
              "      <td>983.6</td>\n",
              "      <td>NaN</td>\n",
              "      <td>25.4</td>\n",
              "      <td>16.4</td>\n",
              "      <td>26.3</td>\n",
              "      <td>17.0</td>\n",
              "      <td>25.3</td>\n",
              "      <td>16.4</td>\n",
              "      <td>57</td>\n",
              "      <td>58</td>\n",
              "      <td>56</td>\n",
              "      <td>3.1</td>\n",
              "      <td>110</td>\n",
              "      <td>7.5</td>\n",
              "    </tr>\n",
              "  </tbody>\n",
              "</table>\n",
              "</div>"
            ],
            "text/plain": [
              "   wsid         wsnm  elvt       lat        lon  ... hmax hmin wdsp wdct gust\n",
              "0   178  SÃO GONÇALO   237 -6.835777 -38.311583  ...   58   32  3.2  101  6.5\n",
              "1   178  SÃO GONÇALO   237 -6.835777 -38.311583  ...   39   35  3.6   94  6.4\n",
              "2   178  SÃO GONÇALO   237 -6.835777 -38.311583  ...   44   39  2.5   93  6.9\n",
              "3   178  SÃO GONÇALO   237 -6.835777 -38.311583  ...   58   44  1.7   96  5.8\n",
              "4   178  SÃO GONÇALO   237 -6.835777 -38.311583  ...   58   56  3.1  110  7.5\n",
              "\n",
              "[5 rows x 31 columns]"
            ]
          },
          "metadata": {},
          "execution_count": 42
        }
      ]
    },
    {
      "cell_type": "markdown",
      "metadata": {
        "id": "GHiJtkcTWcav"
      },
      "source": [
        "Check the number of columns and rows"
      ]
    },
    {
      "cell_type": "code",
      "metadata": {
        "colab": {
          "base_uri": "https://localhost:8080/"
        },
        "id": "g7h-6DDL3kOf",
        "outputId": "51764dc0-66da-4b0f-83eb-c7b9cda0858b"
      },
      "source": [
        "df.shape"
      ],
      "execution_count": 43,
      "outputs": [
        {
          "output_type": "execute_result",
          "data": {
            "text/plain": [
              "(506002, 31)"
            ]
          },
          "metadata": {},
          "execution_count": 43
        }
      ]
    },
    {
      "cell_type": "markdown",
      "metadata": {
        "id": "-0QfLhBQWgf9"
      },
      "source": [
        "Print all the columns from the dataframe"
      ]
    },
    {
      "cell_type": "code",
      "metadata": {
        "colab": {
          "base_uri": "https://localhost:8080/"
        },
        "id": "ddvG3gOc3nCJ",
        "outputId": "16f05a48-3d07-4e89-d599-e5bf5b7abe60"
      },
      "source": [
        "df.columns"
      ],
      "execution_count": 44,
      "outputs": [
        {
          "output_type": "execute_result",
          "data": {
            "text/plain": [
              "Index(['wsid', 'wsnm', 'elvt', 'lat', 'lon', 'inme', 'city', 'prov', 'mdct',\n",
              "       'date', 'yr', 'mo', 'da', 'hr', 'prcp', 'stp', 'smax', 'smin', 'gbrd',\n",
              "       'temp', 'dewp', 'tmax', 'dmax', 'tmin', 'dmin', 'hmdy', 'hmax', 'hmin',\n",
              "       'wdsp', 'wdct', 'gust'],\n",
              "      dtype='object')"
            ]
          },
          "metadata": {},
          "execution_count": 44
        }
      ]
    },
    {
      "cell_type": "markdown",
      "metadata": {
        "id": "DupiHVUjWlW_"
      },
      "source": [
        "Print all the values of city column. "
      ]
    },
    {
      "cell_type": "code",
      "metadata": {
        "colab": {
          "base_uri": "https://localhost:8080/"
        },
        "id": "pR3BONmX5wHk",
        "outputId": "f893d800-9139-414d-b0cf-c0a4b622ee21"
      },
      "source": [
        "df['city'].unique()"
      ],
      "execution_count": 45,
      "outputs": [
        {
          "output_type": "execute_result",
          "data": {
            "text/plain": [
              "array(['São Gonçalo', 'Vitória', 'Santa Teresa', 'Linhares',\n",
              "       'Alfredo Chaves', 'São Mateus'], dtype=object)"
            ]
          },
          "metadata": {},
          "execution_count": 45
        }
      ]
    },
    {
      "cell_type": "markdown",
      "metadata": {
        "id": "9znBk0BVWqc3"
      },
      "source": [
        "Here, we are interested only in the city 'São Mateus'. The city is randomly picked for this experiment"
      ]
    },
    {
      "cell_type": "code",
      "metadata": {
        "colab": {
          "base_uri": "https://localhost:8080/"
        },
        "id": "_A0TV0TT6W71",
        "outputId": "6e18ce1c-9f56-4a39-fe7f-305186774c20"
      },
      "source": [
        "df = df[df.city=='São Mateus']\n",
        "df.head()\n",
        "df.shape"
      ],
      "execution_count": 46,
      "outputs": [
        {
          "output_type": "execute_result",
          "data": {
            "text/plain": [
              "(86890, 31)"
            ]
          },
          "metadata": {},
          "execution_count": 46
        }
      ]
    },
    {
      "cell_type": "markdown",
      "metadata": {
        "id": "OFka4QEvW2NN"
      },
      "source": [
        "Drop the unwanted columns. Dropping the columns\n",
        "1. Weather station Id\n",
        "2. Weather station name\n",
        "3. Elevation \n",
        "4. Latitude \n",
        "5. Longitude\n",
        "6. Weather station number\n",
        "7. Province\n",
        "8. Solar Radiation\n",
        "9. Dew point (can be dropped because its directly related to relative humidity field)\n",
        "10. Windspeed\n",
        "11. Wind direction\n",
        "12. Wind Gust"
      ]
    },
    {
      "cell_type": "code",
      "metadata": {
        "colab": {
          "base_uri": "https://localhost:8080/"
        },
        "id": "9BY9IVc26xpa",
        "outputId": "8ca5945f-ceb4-4fb4-b9e9-5ee89e5ba503"
      },
      "source": [
        "df = df.drop(['wsid','wsnm','elvt','lat','lon','inme','prov','gbrd','dewp','dmax','dmin','wdsp','wdct','gust'],axis='columns')\n",
        "df.shape"
      ],
      "execution_count": 47,
      "outputs": [
        {
          "output_type": "execute_result",
          "data": {
            "text/plain": [
              "(86890, 17)"
            ]
          },
          "metadata": {},
          "execution_count": 47
        }
      ]
    },
    {
      "cell_type": "markdown",
      "metadata": {
        "id": "PJfh0BljXmKQ"
      },
      "source": [
        "Preview the table once the unwanted columns are dropped"
      ]
    },
    {
      "cell_type": "code",
      "metadata": {
        "colab": {
          "base_uri": "https://localhost:8080/",
          "height": 204
        },
        "id": "MIEI44f0980A",
        "outputId": "81014ac5-4c14-4f05-b95c-23208823fe39"
      },
      "source": [
        "df.head()"
      ],
      "execution_count": 48,
      "outputs": [
        {
          "output_type": "execute_result",
          "data": {
            "text/html": [
              "<div>\n",
              "<style scoped>\n",
              "    .dataframe tbody tr th:only-of-type {\n",
              "        vertical-align: middle;\n",
              "    }\n",
              "\n",
              "    .dataframe tbody tr th {\n",
              "        vertical-align: top;\n",
              "    }\n",
              "\n",
              "    .dataframe thead th {\n",
              "        text-align: right;\n",
              "    }\n",
              "</style>\n",
              "<table border=\"1\" class=\"dataframe\">\n",
              "  <thead>\n",
              "    <tr style=\"text-align: right;\">\n",
              "      <th></th>\n",
              "      <th>city</th>\n",
              "      <th>mdct</th>\n",
              "      <th>date</th>\n",
              "      <th>yr</th>\n",
              "      <th>mo</th>\n",
              "      <th>da</th>\n",
              "      <th>hr</th>\n",
              "      <th>prcp</th>\n",
              "      <th>stp</th>\n",
              "      <th>smax</th>\n",
              "      <th>smin</th>\n",
              "      <th>temp</th>\n",
              "      <th>tmax</th>\n",
              "      <th>tmin</th>\n",
              "      <th>hmdy</th>\n",
              "      <th>hmax</th>\n",
              "      <th>hmin</th>\n",
              "    </tr>\n",
              "  </thead>\n",
              "  <tbody>\n",
              "    <tr>\n",
              "      <th>419112</th>\n",
              "      <td>São Mateus</td>\n",
              "      <td>10/25/06 0:00</td>\n",
              "      <td>10/25/06</td>\n",
              "      <td>2006</td>\n",
              "      <td>10</td>\n",
              "      <td>25</td>\n",
              "      <td>0</td>\n",
              "      <td>0.0</td>\n",
              "      <td>0.0</td>\n",
              "      <td>0.0</td>\n",
              "      <td>0.0</td>\n",
              "      <td>0.0</td>\n",
              "      <td>0.0</td>\n",
              "      <td>0.0</td>\n",
              "      <td>0</td>\n",
              "      <td>0</td>\n",
              "      <td>0</td>\n",
              "    </tr>\n",
              "    <tr>\n",
              "      <th>419113</th>\n",
              "      <td>São Mateus</td>\n",
              "      <td>10/25/06 1:00</td>\n",
              "      <td>10/25/06</td>\n",
              "      <td>2006</td>\n",
              "      <td>10</td>\n",
              "      <td>25</td>\n",
              "      <td>1</td>\n",
              "      <td>0.0</td>\n",
              "      <td>0.0</td>\n",
              "      <td>0.0</td>\n",
              "      <td>0.0</td>\n",
              "      <td>0.0</td>\n",
              "      <td>0.0</td>\n",
              "      <td>0.0</td>\n",
              "      <td>0</td>\n",
              "      <td>0</td>\n",
              "      <td>0</td>\n",
              "    </tr>\n",
              "    <tr>\n",
              "      <th>419114</th>\n",
              "      <td>São Mateus</td>\n",
              "      <td>10/25/06 2:00</td>\n",
              "      <td>10/25/06</td>\n",
              "      <td>2006</td>\n",
              "      <td>10</td>\n",
              "      <td>25</td>\n",
              "      <td>2</td>\n",
              "      <td>0.0</td>\n",
              "      <td>0.0</td>\n",
              "      <td>0.0</td>\n",
              "      <td>0.0</td>\n",
              "      <td>0.0</td>\n",
              "      <td>0.0</td>\n",
              "      <td>0.0</td>\n",
              "      <td>0</td>\n",
              "      <td>0</td>\n",
              "      <td>0</td>\n",
              "    </tr>\n",
              "    <tr>\n",
              "      <th>419115</th>\n",
              "      <td>São Mateus</td>\n",
              "      <td>10/25/06 3:00</td>\n",
              "      <td>10/25/06</td>\n",
              "      <td>2006</td>\n",
              "      <td>10</td>\n",
              "      <td>25</td>\n",
              "      <td>3</td>\n",
              "      <td>0.0</td>\n",
              "      <td>0.0</td>\n",
              "      <td>0.0</td>\n",
              "      <td>0.0</td>\n",
              "      <td>0.0</td>\n",
              "      <td>0.0</td>\n",
              "      <td>0.0</td>\n",
              "      <td>0</td>\n",
              "      <td>0</td>\n",
              "      <td>0</td>\n",
              "    </tr>\n",
              "    <tr>\n",
              "      <th>419116</th>\n",
              "      <td>São Mateus</td>\n",
              "      <td>10/25/06 4:00</td>\n",
              "      <td>10/25/06</td>\n",
              "      <td>2006</td>\n",
              "      <td>10</td>\n",
              "      <td>25</td>\n",
              "      <td>4</td>\n",
              "      <td>0.0</td>\n",
              "      <td>0.0</td>\n",
              "      <td>0.0</td>\n",
              "      <td>0.0</td>\n",
              "      <td>0.0</td>\n",
              "      <td>0.0</td>\n",
              "      <td>0.0</td>\n",
              "      <td>0</td>\n",
              "      <td>0</td>\n",
              "      <td>0</td>\n",
              "    </tr>\n",
              "  </tbody>\n",
              "</table>\n",
              "</div>"
            ],
            "text/plain": [
              "              city           mdct      date    yr  ...  tmin  hmdy  hmax  hmin\n",
              "419112  São Mateus  10/25/06 0:00  10/25/06  2006  ...   0.0     0     0     0\n",
              "419113  São Mateus  10/25/06 1:00  10/25/06  2006  ...   0.0     0     0     0\n",
              "419114  São Mateus  10/25/06 2:00  10/25/06  2006  ...   0.0     0     0     0\n",
              "419115  São Mateus  10/25/06 3:00  10/25/06  2006  ...   0.0     0     0     0\n",
              "419116  São Mateus  10/25/06 4:00  10/25/06  2006  ...   0.0     0     0     0\n",
              "\n",
              "[5 rows x 17 columns]"
            ]
          },
          "metadata": {},
          "execution_count": 48
        }
      ]
    },
    {
      "cell_type": "markdown",
      "metadata": {
        "id": "UtQO08-EXrcn"
      },
      "source": [
        "Here, we are only interested in the recent data. Hence dropping the data before the year 2010 "
      ]
    },
    {
      "cell_type": "code",
      "metadata": {
        "colab": {
          "base_uri": "https://localhost:8080/",
          "height": 204
        },
        "id": "EtjBB7uC-1Un",
        "outputId": "aad70a5c-7c55-4026-e7cb-8e5e17180e64"
      },
      "source": [
        "df = df[df.yr>=2010]\n",
        "df.head()"
      ],
      "execution_count": 49,
      "outputs": [
        {
          "output_type": "execute_result",
          "data": {
            "text/html": [
              "<div>\n",
              "<style scoped>\n",
              "    .dataframe tbody tr th:only-of-type {\n",
              "        vertical-align: middle;\n",
              "    }\n",
              "\n",
              "    .dataframe tbody tr th {\n",
              "        vertical-align: top;\n",
              "    }\n",
              "\n",
              "    .dataframe thead th {\n",
              "        text-align: right;\n",
              "    }\n",
              "</style>\n",
              "<table border=\"1\" class=\"dataframe\">\n",
              "  <thead>\n",
              "    <tr style=\"text-align: right;\">\n",
              "      <th></th>\n",
              "      <th>city</th>\n",
              "      <th>mdct</th>\n",
              "      <th>date</th>\n",
              "      <th>yr</th>\n",
              "      <th>mo</th>\n",
              "      <th>da</th>\n",
              "      <th>hr</th>\n",
              "      <th>prcp</th>\n",
              "      <th>stp</th>\n",
              "      <th>smax</th>\n",
              "      <th>smin</th>\n",
              "      <th>temp</th>\n",
              "      <th>tmax</th>\n",
              "      <th>tmin</th>\n",
              "      <th>hmdy</th>\n",
              "      <th>hmax</th>\n",
              "      <th>hmin</th>\n",
              "    </tr>\n",
              "  </thead>\n",
              "  <tbody>\n",
              "    <tr>\n",
              "      <th>447048</th>\n",
              "      <td>São Mateus</td>\n",
              "      <td>1/1/10 0:00</td>\n",
              "      <td>1/1/10</td>\n",
              "      <td>2010</td>\n",
              "      <td>1</td>\n",
              "      <td>1</td>\n",
              "      <td>0</td>\n",
              "      <td>NaN</td>\n",
              "      <td>1007.6</td>\n",
              "      <td>1007.6</td>\n",
              "      <td>1006.2</td>\n",
              "      <td>26.2</td>\n",
              "      <td>26.6</td>\n",
              "      <td>26.2</td>\n",
              "      <td>77</td>\n",
              "      <td>82</td>\n",
              "      <td>77</td>\n",
              "    </tr>\n",
              "    <tr>\n",
              "      <th>447049</th>\n",
              "      <td>São Mateus</td>\n",
              "      <td>1/1/10 1:00</td>\n",
              "      <td>1/1/10</td>\n",
              "      <td>2010</td>\n",
              "      <td>1</td>\n",
              "      <td>1</td>\n",
              "      <td>1</td>\n",
              "      <td>NaN</td>\n",
              "      <td>1008.5</td>\n",
              "      <td>1008.5</td>\n",
              "      <td>1007.6</td>\n",
              "      <td>25.8</td>\n",
              "      <td>26.2</td>\n",
              "      <td>25.8</td>\n",
              "      <td>78</td>\n",
              "      <td>78</td>\n",
              "      <td>77</td>\n",
              "    </tr>\n",
              "    <tr>\n",
              "      <th>447050</th>\n",
              "      <td>São Mateus</td>\n",
              "      <td>1/1/10 2:00</td>\n",
              "      <td>1/1/10</td>\n",
              "      <td>2010</td>\n",
              "      <td>1</td>\n",
              "      <td>1</td>\n",
              "      <td>2</td>\n",
              "      <td>NaN</td>\n",
              "      <td>1008.8</td>\n",
              "      <td>1009.0</td>\n",
              "      <td>1008.5</td>\n",
              "      <td>25.2</td>\n",
              "      <td>25.8</td>\n",
              "      <td>25.2</td>\n",
              "      <td>81</td>\n",
              "      <td>81</td>\n",
              "      <td>78</td>\n",
              "    </tr>\n",
              "    <tr>\n",
              "      <th>447051</th>\n",
              "      <td>São Mateus</td>\n",
              "      <td>1/1/10 3:00</td>\n",
              "      <td>1/1/10</td>\n",
              "      <td>2010</td>\n",
              "      <td>1</td>\n",
              "      <td>1</td>\n",
              "      <td>3</td>\n",
              "      <td>NaN</td>\n",
              "      <td>1008.5</td>\n",
              "      <td>1008.8</td>\n",
              "      <td>1008.5</td>\n",
              "      <td>24.4</td>\n",
              "      <td>25.2</td>\n",
              "      <td>24.4</td>\n",
              "      <td>86</td>\n",
              "      <td>86</td>\n",
              "      <td>81</td>\n",
              "    </tr>\n",
              "    <tr>\n",
              "      <th>447052</th>\n",
              "      <td>São Mateus</td>\n",
              "      <td>1/1/10 4:00</td>\n",
              "      <td>1/1/10</td>\n",
              "      <td>2010</td>\n",
              "      <td>1</td>\n",
              "      <td>1</td>\n",
              "      <td>4</td>\n",
              "      <td>NaN</td>\n",
              "      <td>1008.0</td>\n",
              "      <td>1008.5</td>\n",
              "      <td>1008.0</td>\n",
              "      <td>24.5</td>\n",
              "      <td>24.7</td>\n",
              "      <td>24.4</td>\n",
              "      <td>87</td>\n",
              "      <td>87</td>\n",
              "      <td>86</td>\n",
              "    </tr>\n",
              "  </tbody>\n",
              "</table>\n",
              "</div>"
            ],
            "text/plain": [
              "              city         mdct    date    yr  mo  ...  tmax  tmin  hmdy  hmax  hmin\n",
              "447048  São Mateus  1/1/10 0:00  1/1/10  2010   1  ...  26.6  26.2    77    82    77\n",
              "447049  São Mateus  1/1/10 1:00  1/1/10  2010   1  ...  26.2  25.8    78    78    77\n",
              "447050  São Mateus  1/1/10 2:00  1/1/10  2010   1  ...  25.8  25.2    81    81    78\n",
              "447051  São Mateus  1/1/10 3:00  1/1/10  2010   1  ...  25.2  24.4    86    86    81\n",
              "447052  São Mateus  1/1/10 4:00  1/1/10  2010   1  ...  24.7  24.4    87    87    86\n",
              "\n",
              "[5 rows x 17 columns]"
            ]
          },
          "metadata": {},
          "execution_count": 49
        }
      ]
    },
    {
      "cell_type": "markdown",
      "metadata": {
        "id": "ND3lTpPYX2Iq"
      },
      "source": [
        "Convert the tmax(max temperature), tmin(min temperature), hmax(max humidity), hmin(min humidity), smax(max air pressure), smin(min air pressure), prcp(precipitaion) to float values. \n",
        "Convert date to proper string format"
      ]
    },
    {
      "cell_type": "code",
      "metadata": {
        "colab": {
          "base_uri": "https://localhost:8080/",
          "height": 204
        },
        "id": "XTlhdRps--6n",
        "outputId": "8aef5df9-29ab-481f-836c-c4430d13d711"
      },
      "source": [
        "df['tmax'] = df['tmax'].astype('float64')\n",
        "df['tmin'] = df['tmin'].astype('float64')\n",
        "df['hmax'] = df['hmax'].astype('float64')\n",
        "df['hmin'] = df['hmin'].astype('float64')\n",
        "df['smax'] = df['smax'].astype('float64')\n",
        "df['smin'] = df['smin'].astype('float64')\n",
        "df['prcp'] = df['prcp'].astype('float64')\n",
        "df['date'] = df['date'].astype(str)\n",
        "df.head()"
      ],
      "execution_count": 12,
      "outputs": [
        {
          "output_type": "execute_result",
          "data": {
            "text/html": [
              "<div>\n",
              "<style scoped>\n",
              "    .dataframe tbody tr th:only-of-type {\n",
              "        vertical-align: middle;\n",
              "    }\n",
              "\n",
              "    .dataframe tbody tr th {\n",
              "        vertical-align: top;\n",
              "    }\n",
              "\n",
              "    .dataframe thead th {\n",
              "        text-align: right;\n",
              "    }\n",
              "</style>\n",
              "<table border=\"1\" class=\"dataframe\">\n",
              "  <thead>\n",
              "    <tr style=\"text-align: right;\">\n",
              "      <th></th>\n",
              "      <th>city</th>\n",
              "      <th>mdct</th>\n",
              "      <th>date</th>\n",
              "      <th>yr</th>\n",
              "      <th>mo</th>\n",
              "      <th>da</th>\n",
              "      <th>hr</th>\n",
              "      <th>prcp</th>\n",
              "      <th>stp</th>\n",
              "      <th>smax</th>\n",
              "      <th>smin</th>\n",
              "      <th>temp</th>\n",
              "      <th>tmax</th>\n",
              "      <th>tmin</th>\n",
              "      <th>hmdy</th>\n",
              "      <th>hmax</th>\n",
              "      <th>hmin</th>\n",
              "    </tr>\n",
              "  </thead>\n",
              "  <tbody>\n",
              "    <tr>\n",
              "      <th>447048</th>\n",
              "      <td>São Mateus</td>\n",
              "      <td>1/1/10 0:00</td>\n",
              "      <td>1/1/10</td>\n",
              "      <td>2010</td>\n",
              "      <td>1</td>\n",
              "      <td>1</td>\n",
              "      <td>0</td>\n",
              "      <td>NaN</td>\n",
              "      <td>1007.6</td>\n",
              "      <td>1007.6</td>\n",
              "      <td>1006.2</td>\n",
              "      <td>26.2</td>\n",
              "      <td>26.6</td>\n",
              "      <td>26.2</td>\n",
              "      <td>77</td>\n",
              "      <td>82.0</td>\n",
              "      <td>77.0</td>\n",
              "    </tr>\n",
              "    <tr>\n",
              "      <th>447049</th>\n",
              "      <td>São Mateus</td>\n",
              "      <td>1/1/10 1:00</td>\n",
              "      <td>1/1/10</td>\n",
              "      <td>2010</td>\n",
              "      <td>1</td>\n",
              "      <td>1</td>\n",
              "      <td>1</td>\n",
              "      <td>NaN</td>\n",
              "      <td>1008.5</td>\n",
              "      <td>1008.5</td>\n",
              "      <td>1007.6</td>\n",
              "      <td>25.8</td>\n",
              "      <td>26.2</td>\n",
              "      <td>25.8</td>\n",
              "      <td>78</td>\n",
              "      <td>78.0</td>\n",
              "      <td>77.0</td>\n",
              "    </tr>\n",
              "    <tr>\n",
              "      <th>447050</th>\n",
              "      <td>São Mateus</td>\n",
              "      <td>1/1/10 2:00</td>\n",
              "      <td>1/1/10</td>\n",
              "      <td>2010</td>\n",
              "      <td>1</td>\n",
              "      <td>1</td>\n",
              "      <td>2</td>\n",
              "      <td>NaN</td>\n",
              "      <td>1008.8</td>\n",
              "      <td>1009.0</td>\n",
              "      <td>1008.5</td>\n",
              "      <td>25.2</td>\n",
              "      <td>25.8</td>\n",
              "      <td>25.2</td>\n",
              "      <td>81</td>\n",
              "      <td>81.0</td>\n",
              "      <td>78.0</td>\n",
              "    </tr>\n",
              "    <tr>\n",
              "      <th>447051</th>\n",
              "      <td>São Mateus</td>\n",
              "      <td>1/1/10 3:00</td>\n",
              "      <td>1/1/10</td>\n",
              "      <td>2010</td>\n",
              "      <td>1</td>\n",
              "      <td>1</td>\n",
              "      <td>3</td>\n",
              "      <td>NaN</td>\n",
              "      <td>1008.5</td>\n",
              "      <td>1008.8</td>\n",
              "      <td>1008.5</td>\n",
              "      <td>24.4</td>\n",
              "      <td>25.2</td>\n",
              "      <td>24.4</td>\n",
              "      <td>86</td>\n",
              "      <td>86.0</td>\n",
              "      <td>81.0</td>\n",
              "    </tr>\n",
              "    <tr>\n",
              "      <th>447052</th>\n",
              "      <td>São Mateus</td>\n",
              "      <td>1/1/10 4:00</td>\n",
              "      <td>1/1/10</td>\n",
              "      <td>2010</td>\n",
              "      <td>1</td>\n",
              "      <td>1</td>\n",
              "      <td>4</td>\n",
              "      <td>NaN</td>\n",
              "      <td>1008.0</td>\n",
              "      <td>1008.5</td>\n",
              "      <td>1008.0</td>\n",
              "      <td>24.5</td>\n",
              "      <td>24.7</td>\n",
              "      <td>24.4</td>\n",
              "      <td>87</td>\n",
              "      <td>87.0</td>\n",
              "      <td>86.0</td>\n",
              "    </tr>\n",
              "  </tbody>\n",
              "</table>\n",
              "</div>"
            ],
            "text/plain": [
              "              city         mdct    date    yr  mo  ...  tmax  tmin  hmdy  hmax  hmin\n",
              "447048  São Mateus  1/1/10 0:00  1/1/10  2010   1  ...  26.6  26.2    77  82.0  77.0\n",
              "447049  São Mateus  1/1/10 1:00  1/1/10  2010   1  ...  26.2  25.8    78  78.0  77.0\n",
              "447050  São Mateus  1/1/10 2:00  1/1/10  2010   1  ...  25.8  25.2    81  81.0  78.0\n",
              "447051  São Mateus  1/1/10 3:00  1/1/10  2010   1  ...  25.2  24.4    86  86.0  81.0\n",
              "447052  São Mateus  1/1/10 4:00  1/1/10  2010   1  ...  24.7  24.4    87  87.0  86.0\n",
              "\n",
              "[5 rows x 17 columns]"
            ]
          },
          "metadata": {},
          "execution_count": 12
        }
      ]
    },
    {
      "cell_type": "markdown",
      "metadata": {
        "id": "SPQwF1q5Yamd"
      },
      "source": [
        "Describing the data types after conversion"
      ]
    },
    {
      "cell_type": "code",
      "metadata": {
        "colab": {
          "base_uri": "https://localhost:8080/"
        },
        "id": "WJtrUpUWBSop",
        "outputId": "2435d835-ce6e-4c58-f727-e36cd2a91690"
      },
      "source": [
        "df.dtypes"
      ],
      "execution_count": 50,
      "outputs": [
        {
          "output_type": "execute_result",
          "data": {
            "text/plain": [
              "city     object\n",
              "mdct     object\n",
              "date     object\n",
              "yr        int64\n",
              "mo        int64\n",
              "da        int64\n",
              "hr        int64\n",
              "prcp    float64\n",
              "stp     float64\n",
              "smax    float64\n",
              "smin    float64\n",
              "temp    float64\n",
              "tmax    float64\n",
              "tmin    float64\n",
              "hmdy      int64\n",
              "hmax      int64\n",
              "hmin      int64\n",
              "dtype: object"
            ]
          },
          "metadata": {},
          "execution_count": 50
        }
      ]
    },
    {
      "cell_type": "markdown",
      "metadata": {
        "id": "bf5stBm-Yerf"
      },
      "source": [
        "The given data has max and min temperature per hour. But we are interested in max and min temperature per day. Obtaining the max and min temperature per day. "
      ]
    },
    {
      "cell_type": "code",
      "metadata": {
        "colab": {
          "base_uri": "https://localhost:8080/",
          "height": 204
        },
        "id": "AOtM35UJBfjD",
        "outputId": "c8494bbd-f7f7-4245-c859-66133873677c"
      },
      "source": [
        " grouper = df.groupby('date').agg( \\\n",
        "    max_temp=('tmax', 'max'),\n",
        "    min_temp=('tmin','min'),\n",
        "    max_humid=('hmax', 'max'),\n",
        "    min_humid=('hmin','min'),\n",
        "    max_air_pressure=('smax','max'),\n",
        "    min_air_pressure=('smin','min'),\n",
        "    max_prcp=('prcp','max'))\n",
        "\n",
        "\n",
        "df2= grouper['max_temp'].to_frame(name = 'max_temp').reset_index() \n",
        "df3= grouper['min_temp'].to_frame(name = 'min_temp').reset_index()\n",
        "df4= grouper['max_humid'].to_frame(name = 'max_humid').reset_index()\n",
        "df5= grouper['min_humid'].to_frame(name = 'min_humid').reset_index()\n",
        "df6= grouper['max_air_pressure'].to_frame(name = 'max_air_pressure').reset_index()\n",
        "df7= grouper['min_air_pressure'].to_frame(name = 'min_air_pressure').reset_index()\n",
        "df8 = grouper['max_prcp'].to_frame(name='max_prcp').reset_index()\n",
        "\n",
        "new = df2.filter(['max_temp','date'], axis=1)\n",
        "new['min_temp'] = df3['min_temp'].values\n",
        "new['max_humid'] = df4['max_humid'].values\n",
        "new['min_humid'] = df5['min_humid'].values\n",
        "new['max_air_pressure'] = df6['max_air_pressure'].values\n",
        "new['min_air_pressure'] = df7['min_air_pressure'].values\n",
        "new['max_prcp']= df8['max_prcp'].values\n",
        "new['city'] = 'São Mateus'\n",
        "\n",
        "new.head()"
      ],
      "execution_count": 51,
      "outputs": [
        {
          "output_type": "execute_result",
          "data": {
            "text/html": [
              "<div>\n",
              "<style scoped>\n",
              "    .dataframe tbody tr th:only-of-type {\n",
              "        vertical-align: middle;\n",
              "    }\n",
              "\n",
              "    .dataframe tbody tr th {\n",
              "        vertical-align: top;\n",
              "    }\n",
              "\n",
              "    .dataframe thead th {\n",
              "        text-align: right;\n",
              "    }\n",
              "</style>\n",
              "<table border=\"1\" class=\"dataframe\">\n",
              "  <thead>\n",
              "    <tr style=\"text-align: right;\">\n",
              "      <th></th>\n",
              "      <th>max_temp</th>\n",
              "      <th>date</th>\n",
              "      <th>min_temp</th>\n",
              "      <th>max_humid</th>\n",
              "      <th>min_humid</th>\n",
              "      <th>max_air_pressure</th>\n",
              "      <th>min_air_pressure</th>\n",
              "      <th>max_prcp</th>\n",
              "      <th>city</th>\n",
              "    </tr>\n",
              "  </thead>\n",
              "  <tbody>\n",
              "    <tr>\n",
              "      <th>0</th>\n",
              "      <td>31.9</td>\n",
              "      <td>1/1/10</td>\n",
              "      <td>24.1</td>\n",
              "      <td>92</td>\n",
              "      <td>52</td>\n",
              "      <td>1010.2</td>\n",
              "      <td>1006.2</td>\n",
              "      <td>NaN</td>\n",
              "      <td>São Mateus</td>\n",
              "    </tr>\n",
              "    <tr>\n",
              "      <th>1</th>\n",
              "      <td>30.1</td>\n",
              "      <td>1/1/11</td>\n",
              "      <td>22.8</td>\n",
              "      <td>95</td>\n",
              "      <td>53</td>\n",
              "      <td>1008.2</td>\n",
              "      <td>1004.4</td>\n",
              "      <td>0.2</td>\n",
              "      <td>São Mateus</td>\n",
              "    </tr>\n",
              "    <tr>\n",
              "      <th>2</th>\n",
              "      <td>29.4</td>\n",
              "      <td>1/1/12</td>\n",
              "      <td>23.5</td>\n",
              "      <td>93</td>\n",
              "      <td>65</td>\n",
              "      <td>1008.0</td>\n",
              "      <td>1004.5</td>\n",
              "      <td>0.8</td>\n",
              "      <td>São Mateus</td>\n",
              "    </tr>\n",
              "    <tr>\n",
              "      <th>3</th>\n",
              "      <td>31.4</td>\n",
              "      <td>1/1/13</td>\n",
              "      <td>22.1</td>\n",
              "      <td>96</td>\n",
              "      <td>53</td>\n",
              "      <td>1012.2</td>\n",
              "      <td>1008.2</td>\n",
              "      <td>0.8</td>\n",
              "      <td>São Mateus</td>\n",
              "    </tr>\n",
              "    <tr>\n",
              "      <th>4</th>\n",
              "      <td>31.9</td>\n",
              "      <td>1/1/14</td>\n",
              "      <td>20.7</td>\n",
              "      <td>98</td>\n",
              "      <td>55</td>\n",
              "      <td>1009.8</td>\n",
              "      <td>1005.2</td>\n",
              "      <td>NaN</td>\n",
              "      <td>São Mateus</td>\n",
              "    </tr>\n",
              "  </tbody>\n",
              "</table>\n",
              "</div>"
            ],
            "text/plain": [
              "   max_temp    date  min_temp  ...  min_air_pressure  max_prcp        city\n",
              "0      31.9  1/1/10      24.1  ...            1006.2       NaN  São Mateus\n",
              "1      30.1  1/1/11      22.8  ...            1004.4       0.2  São Mateus\n",
              "2      29.4  1/1/12      23.5  ...            1004.5       0.8  São Mateus\n",
              "3      31.4  1/1/13      22.1  ...            1008.2       0.8  São Mateus\n",
              "4      31.9  1/1/14      20.7  ...            1005.2       NaN  São Mateus\n",
              "\n",
              "[5 rows x 9 columns]"
            ]
          },
          "metadata": {},
          "execution_count": 51
        }
      ]
    },
    {
      "cell_type": "markdown",
      "metadata": {
        "id": "R7M4_NxaaFxi"
      },
      "source": [
        "Describe the rows and columns once the data is aggregated"
      ]
    },
    {
      "cell_type": "code",
      "metadata": {
        "colab": {
          "base_uri": "https://localhost:8080/"
        },
        "id": "FIu8n68qQbtL",
        "outputId": "906c20f2-c0ca-444b-823f-3d1b510e9294"
      },
      "source": [
        "new.shape"
      ],
      "execution_count": 52,
      "outputs": [
        {
          "output_type": "execute_result",
          "data": {
            "text/plain": [
              "(2457, 9)"
            ]
          },
          "metadata": {},
          "execution_count": 52
        }
      ]
    },
    {
      "cell_type": "markdown",
      "metadata": {
        "id": "7eoCVwFEaKDE"
      },
      "source": [
        "Check if any of the columns contain null values"
      ]
    },
    {
      "cell_type": "code",
      "metadata": {
        "colab": {
          "base_uri": "https://localhost:8080/"
        },
        "id": "nrlKEFjZQhqA",
        "outputId": "fb8e2f83-f2c0-4e5b-864d-e6cf5960c6b5"
      },
      "source": [
        "new.isnull().sum()"
      ],
      "execution_count": 53,
      "outputs": [
        {
          "output_type": "execute_result",
          "data": {
            "text/plain": [
              "max_temp               0\n",
              "date                   0\n",
              "min_temp               0\n",
              "max_humid              0\n",
              "min_humid              0\n",
              "max_air_pressure       0\n",
              "min_air_pressure       0\n",
              "max_prcp            1204\n",
              "city                   0\n",
              "dtype: int64"
            ]
          },
          "metadata": {},
          "execution_count": 53
        }
      ]
    },
    {
      "cell_type": "markdown",
      "metadata": {
        "id": "8RRBGxx3aNyZ"
      },
      "source": [
        "Rain condition on a particular day depends on 4 major factors.\n",
        "1. Temperature\n",
        "2. Humidity\n",
        "3. Air Pressure\n",
        "4. Precipitation\n",
        "\n",
        "All the above factors are equally important. We can't drop the tables which has no precipitation values since other factors might induce rain. \n",
        "\n",
        "We are extracting the feature is_raining from the above 4 columns. is_raining is a boolean value which says with the given weather conditions, do we expect a rain on that particular day. \n",
        "\n",
        "This is calculated by the below conditions\n",
        "1. When there is precipitation\n",
        "2. When the humidity is high and air pressure is minimum"
      ]
    },
    {
      "cell_type": "code",
      "metadata": {
        "colab": {
          "base_uri": "https://localhost:8080/",
          "height": 204
        },
        "id": "qbPhdTYLRTUy",
        "outputId": "65cf0d48-03ad-4e6e-c616-c49ab3034e1d"
      },
      "source": [
        "# create a list of our conditions\n",
        "conditions = [\n",
        "    (new['max_prcp'] >= 0),\n",
        "    (new['max_humid'] > 80.0) & (new['min_air_pressure'] < 1006.2),\n",
        "    ]\n",
        "\n",
        "# create a list of the values we want to assign for each condition\n",
        "values = ['TRUE', 'TRUE']\n",
        "\n",
        "# create a new column and use np.select to assign values to it using our lists as arguments\n",
        "new['is_raining?'] = np.select(conditions, values)\n",
        "\n",
        "# display updated DataFrame\n",
        "new.head()"
      ],
      "execution_count": 54,
      "outputs": [
        {
          "output_type": "execute_result",
          "data": {
            "text/html": [
              "<div>\n",
              "<style scoped>\n",
              "    .dataframe tbody tr th:only-of-type {\n",
              "        vertical-align: middle;\n",
              "    }\n",
              "\n",
              "    .dataframe tbody tr th {\n",
              "        vertical-align: top;\n",
              "    }\n",
              "\n",
              "    .dataframe thead th {\n",
              "        text-align: right;\n",
              "    }\n",
              "</style>\n",
              "<table border=\"1\" class=\"dataframe\">\n",
              "  <thead>\n",
              "    <tr style=\"text-align: right;\">\n",
              "      <th></th>\n",
              "      <th>max_temp</th>\n",
              "      <th>date</th>\n",
              "      <th>min_temp</th>\n",
              "      <th>max_humid</th>\n",
              "      <th>min_humid</th>\n",
              "      <th>max_air_pressure</th>\n",
              "      <th>min_air_pressure</th>\n",
              "      <th>max_prcp</th>\n",
              "      <th>city</th>\n",
              "      <th>is_raining?</th>\n",
              "    </tr>\n",
              "  </thead>\n",
              "  <tbody>\n",
              "    <tr>\n",
              "      <th>0</th>\n",
              "      <td>31.9</td>\n",
              "      <td>1/1/10</td>\n",
              "      <td>24.1</td>\n",
              "      <td>92</td>\n",
              "      <td>52</td>\n",
              "      <td>1010.2</td>\n",
              "      <td>1006.2</td>\n",
              "      <td>NaN</td>\n",
              "      <td>São Mateus</td>\n",
              "      <td>0</td>\n",
              "    </tr>\n",
              "    <tr>\n",
              "      <th>1</th>\n",
              "      <td>30.1</td>\n",
              "      <td>1/1/11</td>\n",
              "      <td>22.8</td>\n",
              "      <td>95</td>\n",
              "      <td>53</td>\n",
              "      <td>1008.2</td>\n",
              "      <td>1004.4</td>\n",
              "      <td>0.2</td>\n",
              "      <td>São Mateus</td>\n",
              "      <td>TRUE</td>\n",
              "    </tr>\n",
              "    <tr>\n",
              "      <th>2</th>\n",
              "      <td>29.4</td>\n",
              "      <td>1/1/12</td>\n",
              "      <td>23.5</td>\n",
              "      <td>93</td>\n",
              "      <td>65</td>\n",
              "      <td>1008.0</td>\n",
              "      <td>1004.5</td>\n",
              "      <td>0.8</td>\n",
              "      <td>São Mateus</td>\n",
              "      <td>TRUE</td>\n",
              "    </tr>\n",
              "    <tr>\n",
              "      <th>3</th>\n",
              "      <td>31.4</td>\n",
              "      <td>1/1/13</td>\n",
              "      <td>22.1</td>\n",
              "      <td>96</td>\n",
              "      <td>53</td>\n",
              "      <td>1012.2</td>\n",
              "      <td>1008.2</td>\n",
              "      <td>0.8</td>\n",
              "      <td>São Mateus</td>\n",
              "      <td>TRUE</td>\n",
              "    </tr>\n",
              "    <tr>\n",
              "      <th>4</th>\n",
              "      <td>31.9</td>\n",
              "      <td>1/1/14</td>\n",
              "      <td>20.7</td>\n",
              "      <td>98</td>\n",
              "      <td>55</td>\n",
              "      <td>1009.8</td>\n",
              "      <td>1005.2</td>\n",
              "      <td>NaN</td>\n",
              "      <td>São Mateus</td>\n",
              "      <td>TRUE</td>\n",
              "    </tr>\n",
              "  </tbody>\n",
              "</table>\n",
              "</div>"
            ],
            "text/plain": [
              "   max_temp    date  min_temp  ...  max_prcp        city  is_raining?\n",
              "0      31.9  1/1/10      24.1  ...       NaN  São Mateus            0\n",
              "1      30.1  1/1/11      22.8  ...       0.2  São Mateus         TRUE\n",
              "2      29.4  1/1/12      23.5  ...       0.8  São Mateus         TRUE\n",
              "3      31.4  1/1/13      22.1  ...       0.8  São Mateus         TRUE\n",
              "4      31.9  1/1/14      20.7  ...       NaN  São Mateus         TRUE\n",
              "\n",
              "[5 rows x 10 columns]"
            ]
          },
          "metadata": {},
          "execution_count": 54
        }
      ]
    },
    {
      "cell_type": "markdown",
      "metadata": {
        "id": "EUVlr44wbdg8"
      },
      "source": [
        "Validating the values of is_raining column"
      ]
    },
    {
      "cell_type": "code",
      "metadata": {
        "colab": {
          "base_uri": "https://localhost:8080/"
        },
        "id": "0F6Z9McrTjnd",
        "outputId": "b1fddcf2-f9a5-4e71-c3f5-597ee4729dac"
      },
      "source": [
        "new['is_raining?'].unique()"
      ],
      "execution_count": 55,
      "outputs": [
        {
          "output_type": "execute_result",
          "data": {
            "text/plain": [
              "array(['0', 'TRUE'], dtype=object)"
            ]
          },
          "metadata": {},
          "execution_count": 55
        }
      ]
    },
    {
      "cell_type": "markdown",
      "metadata": {
        "id": "PwM1oINIbh57"
      },
      "source": [
        "Convert the data type of is_raining? to boolean.\n",
        "Fill the null values in precipitation with 0(since its not the only factor affecting rain, filling with null wont affect the final results)"
      ]
    },
    {
      "cell_type": "code",
      "metadata": {
        "colab": {
          "base_uri": "https://localhost:8080/",
          "height": 204
        },
        "id": "ZYV8swAwUeE0",
        "outputId": "1a3e41b6-9038-4f4d-b10e-1a4c10206dbf"
      },
      "source": [
        "new['is_raining?'].replace({\"0\": False, \"TRUE\": True}, inplace=True)\n",
        "new['max_prcp'] = new['max_prcp'].fillna(0)\n",
        "new.head()"
      ],
      "execution_count": 56,
      "outputs": [
        {
          "output_type": "execute_result",
          "data": {
            "text/html": [
              "<div>\n",
              "<style scoped>\n",
              "    .dataframe tbody tr th:only-of-type {\n",
              "        vertical-align: middle;\n",
              "    }\n",
              "\n",
              "    .dataframe tbody tr th {\n",
              "        vertical-align: top;\n",
              "    }\n",
              "\n",
              "    .dataframe thead th {\n",
              "        text-align: right;\n",
              "    }\n",
              "</style>\n",
              "<table border=\"1\" class=\"dataframe\">\n",
              "  <thead>\n",
              "    <tr style=\"text-align: right;\">\n",
              "      <th></th>\n",
              "      <th>max_temp</th>\n",
              "      <th>date</th>\n",
              "      <th>min_temp</th>\n",
              "      <th>max_humid</th>\n",
              "      <th>min_humid</th>\n",
              "      <th>max_air_pressure</th>\n",
              "      <th>min_air_pressure</th>\n",
              "      <th>max_prcp</th>\n",
              "      <th>city</th>\n",
              "      <th>is_raining?</th>\n",
              "    </tr>\n",
              "  </thead>\n",
              "  <tbody>\n",
              "    <tr>\n",
              "      <th>0</th>\n",
              "      <td>31.9</td>\n",
              "      <td>1/1/10</td>\n",
              "      <td>24.1</td>\n",
              "      <td>92</td>\n",
              "      <td>52</td>\n",
              "      <td>1010.2</td>\n",
              "      <td>1006.2</td>\n",
              "      <td>0.0</td>\n",
              "      <td>São Mateus</td>\n",
              "      <td>False</td>\n",
              "    </tr>\n",
              "    <tr>\n",
              "      <th>1</th>\n",
              "      <td>30.1</td>\n",
              "      <td>1/1/11</td>\n",
              "      <td>22.8</td>\n",
              "      <td>95</td>\n",
              "      <td>53</td>\n",
              "      <td>1008.2</td>\n",
              "      <td>1004.4</td>\n",
              "      <td>0.2</td>\n",
              "      <td>São Mateus</td>\n",
              "      <td>True</td>\n",
              "    </tr>\n",
              "    <tr>\n",
              "      <th>2</th>\n",
              "      <td>29.4</td>\n",
              "      <td>1/1/12</td>\n",
              "      <td>23.5</td>\n",
              "      <td>93</td>\n",
              "      <td>65</td>\n",
              "      <td>1008.0</td>\n",
              "      <td>1004.5</td>\n",
              "      <td>0.8</td>\n",
              "      <td>São Mateus</td>\n",
              "      <td>True</td>\n",
              "    </tr>\n",
              "    <tr>\n",
              "      <th>3</th>\n",
              "      <td>31.4</td>\n",
              "      <td>1/1/13</td>\n",
              "      <td>22.1</td>\n",
              "      <td>96</td>\n",
              "      <td>53</td>\n",
              "      <td>1012.2</td>\n",
              "      <td>1008.2</td>\n",
              "      <td>0.8</td>\n",
              "      <td>São Mateus</td>\n",
              "      <td>True</td>\n",
              "    </tr>\n",
              "    <tr>\n",
              "      <th>4</th>\n",
              "      <td>31.9</td>\n",
              "      <td>1/1/14</td>\n",
              "      <td>20.7</td>\n",
              "      <td>98</td>\n",
              "      <td>55</td>\n",
              "      <td>1009.8</td>\n",
              "      <td>1005.2</td>\n",
              "      <td>0.0</td>\n",
              "      <td>São Mateus</td>\n",
              "      <td>True</td>\n",
              "    </tr>\n",
              "  </tbody>\n",
              "</table>\n",
              "</div>"
            ],
            "text/plain": [
              "   max_temp    date  min_temp  ...  max_prcp        city  is_raining?\n",
              "0      31.9  1/1/10      24.1  ...       0.0  São Mateus        False\n",
              "1      30.1  1/1/11      22.8  ...       0.2  São Mateus         True\n",
              "2      29.4  1/1/12      23.5  ...       0.8  São Mateus         True\n",
              "3      31.4  1/1/13      22.1  ...       0.8  São Mateus         True\n",
              "4      31.9  1/1/14      20.7  ...       0.0  São Mateus         True\n",
              "\n",
              "[5 rows x 10 columns]"
            ]
          },
          "metadata": {},
          "execution_count": 56
        }
      ]
    },
    {
      "cell_type": "markdown",
      "metadata": {
        "id": "4MzmgG7Kb8Ry"
      },
      "source": [
        "Convert the date data type to int. Check the data type of all the columns before modelling"
      ]
    },
    {
      "cell_type": "code",
      "metadata": {
        "colab": {
          "base_uri": "https://localhost:8080/"
        },
        "id": "_U3MKFocXDdV",
        "outputId": "3e7d64f6-381e-4de3-9273-accb6e44ce75"
      },
      "source": [
        "new['date']=pd.to_datetime(new.date).astype(int)\n",
        "new.dtypes"
      ],
      "execution_count": 57,
      "outputs": [
        {
          "output_type": "execute_result",
          "data": {
            "text/plain": [
              "max_temp            float64\n",
              "date                  int64\n",
              "min_temp            float64\n",
              "max_humid             int64\n",
              "min_humid             int64\n",
              "max_air_pressure    float64\n",
              "min_air_pressure    float64\n",
              "max_prcp            float64\n",
              "city                 object\n",
              "is_raining?            bool\n",
              "dtype: object"
            ]
          },
          "metadata": {},
          "execution_count": 57
        }
      ]
    },
    {
      "cell_type": "markdown",
      "metadata": {
        "id": "lFZbajzdcFAk"
      },
      "source": [
        "Preview the data set after the data cleaning process"
      ]
    },
    {
      "cell_type": "code",
      "metadata": {
        "colab": {
          "base_uri": "https://localhost:8080/",
          "height": 309
        },
        "id": "zFCD5mA-XQUx",
        "outputId": "19be8d6a-4dee-4a86-f1c9-a518577a94ab"
      },
      "source": [
        "new.head()"
      ],
      "execution_count": 58,
      "outputs": [
        {
          "output_type": "execute_result",
          "data": {
            "text/html": [
              "<div>\n",
              "<style scoped>\n",
              "    .dataframe tbody tr th:only-of-type {\n",
              "        vertical-align: middle;\n",
              "    }\n",
              "\n",
              "    .dataframe tbody tr th {\n",
              "        vertical-align: top;\n",
              "    }\n",
              "\n",
              "    .dataframe thead th {\n",
              "        text-align: right;\n",
              "    }\n",
              "</style>\n",
              "<table border=\"1\" class=\"dataframe\">\n",
              "  <thead>\n",
              "    <tr style=\"text-align: right;\">\n",
              "      <th></th>\n",
              "      <th>max_temp</th>\n",
              "      <th>date</th>\n",
              "      <th>min_temp</th>\n",
              "      <th>max_humid</th>\n",
              "      <th>min_humid</th>\n",
              "      <th>max_air_pressure</th>\n",
              "      <th>min_air_pressure</th>\n",
              "      <th>max_prcp</th>\n",
              "      <th>city</th>\n",
              "      <th>is_raining?</th>\n",
              "    </tr>\n",
              "  </thead>\n",
              "  <tbody>\n",
              "    <tr>\n",
              "      <th>0</th>\n",
              "      <td>31.9</td>\n",
              "      <td>1262304000000000000</td>\n",
              "      <td>24.1</td>\n",
              "      <td>92</td>\n",
              "      <td>52</td>\n",
              "      <td>1010.2</td>\n",
              "      <td>1006.2</td>\n",
              "      <td>0.0</td>\n",
              "      <td>São Mateus</td>\n",
              "      <td>False</td>\n",
              "    </tr>\n",
              "    <tr>\n",
              "      <th>1</th>\n",
              "      <td>30.1</td>\n",
              "      <td>1293840000000000000</td>\n",
              "      <td>22.8</td>\n",
              "      <td>95</td>\n",
              "      <td>53</td>\n",
              "      <td>1008.2</td>\n",
              "      <td>1004.4</td>\n",
              "      <td>0.2</td>\n",
              "      <td>São Mateus</td>\n",
              "      <td>True</td>\n",
              "    </tr>\n",
              "    <tr>\n",
              "      <th>2</th>\n",
              "      <td>29.4</td>\n",
              "      <td>1325376000000000000</td>\n",
              "      <td>23.5</td>\n",
              "      <td>93</td>\n",
              "      <td>65</td>\n",
              "      <td>1008.0</td>\n",
              "      <td>1004.5</td>\n",
              "      <td>0.8</td>\n",
              "      <td>São Mateus</td>\n",
              "      <td>True</td>\n",
              "    </tr>\n",
              "    <tr>\n",
              "      <th>3</th>\n",
              "      <td>31.4</td>\n",
              "      <td>1356998400000000000</td>\n",
              "      <td>22.1</td>\n",
              "      <td>96</td>\n",
              "      <td>53</td>\n",
              "      <td>1012.2</td>\n",
              "      <td>1008.2</td>\n",
              "      <td>0.8</td>\n",
              "      <td>São Mateus</td>\n",
              "      <td>True</td>\n",
              "    </tr>\n",
              "    <tr>\n",
              "      <th>4</th>\n",
              "      <td>31.9</td>\n",
              "      <td>1388534400000000000</td>\n",
              "      <td>20.7</td>\n",
              "      <td>98</td>\n",
              "      <td>55</td>\n",
              "      <td>1009.8</td>\n",
              "      <td>1005.2</td>\n",
              "      <td>0.0</td>\n",
              "      <td>São Mateus</td>\n",
              "      <td>True</td>\n",
              "    </tr>\n",
              "  </tbody>\n",
              "</table>\n",
              "</div>"
            ],
            "text/plain": [
              "   max_temp                 date  min_temp  ...  max_prcp        city  is_raining?\n",
              "0      31.9  1262304000000000000      24.1  ...       0.0  São Mateus        False\n",
              "1      30.1  1293840000000000000      22.8  ...       0.2  São Mateus         True\n",
              "2      29.4  1325376000000000000      23.5  ...       0.8  São Mateus         True\n",
              "3      31.4  1356998400000000000      22.1  ...       0.8  São Mateus         True\n",
              "4      31.9  1388534400000000000      20.7  ...       0.0  São Mateus         True\n",
              "\n",
              "[5 rows x 10 columns]"
            ]
          },
          "metadata": {},
          "execution_count": 58
        }
      ]
    },
    {
      "cell_type": "markdown",
      "metadata": {
        "id": "qDo-bxCKcNAX"
      },
      "source": [
        "Describe the dataset"
      ]
    },
    {
      "cell_type": "code",
      "metadata": {
        "colab": {
          "base_uri": "https://localhost:8080/",
          "height": 297
        },
        "id": "s3GjqFpdXY_y",
        "outputId": "6456f3e8-bdcc-42a0-9d2a-c1f4ec36864c"
      },
      "source": [
        "new.describe()"
      ],
      "execution_count": 59,
      "outputs": [
        {
          "output_type": "execute_result",
          "data": {
            "text/html": [
              "<div>\n",
              "<style scoped>\n",
              "    .dataframe tbody tr th:only-of-type {\n",
              "        vertical-align: middle;\n",
              "    }\n",
              "\n",
              "    .dataframe tbody tr th {\n",
              "        vertical-align: top;\n",
              "    }\n",
              "\n",
              "    .dataframe thead th {\n",
              "        text-align: right;\n",
              "    }\n",
              "</style>\n",
              "<table border=\"1\" class=\"dataframe\">\n",
              "  <thead>\n",
              "    <tr style=\"text-align: right;\">\n",
              "      <th></th>\n",
              "      <th>max_temp</th>\n",
              "      <th>date</th>\n",
              "      <th>min_temp</th>\n",
              "      <th>max_humid</th>\n",
              "      <th>min_humid</th>\n",
              "      <th>max_air_pressure</th>\n",
              "      <th>min_air_pressure</th>\n",
              "      <th>max_prcp</th>\n",
              "    </tr>\n",
              "  </thead>\n",
              "  <tbody>\n",
              "    <tr>\n",
              "      <th>count</th>\n",
              "      <td>2457.000000</td>\n",
              "      <td>2.457000e+03</td>\n",
              "      <td>2457.000000</td>\n",
              "      <td>2457.000000</td>\n",
              "      <td>2457.000000</td>\n",
              "      <td>2457.000000</td>\n",
              "      <td>2457.000000</td>\n",
              "      <td>2457.000000</td>\n",
              "    </tr>\n",
              "    <tr>\n",
              "      <th>mean</th>\n",
              "      <td>28.861335</td>\n",
              "      <td>1.368403e+18</td>\n",
              "      <td>19.516484</td>\n",
              "      <td>95.226292</td>\n",
              "      <td>54.296703</td>\n",
              "      <td>1009.725071</td>\n",
              "      <td>972.107692</td>\n",
              "      <td>1.376720</td>\n",
              "    </tr>\n",
              "    <tr>\n",
              "      <th>std</th>\n",
              "      <td>3.262210</td>\n",
              "      <td>6.129381e+16</td>\n",
              "      <td>4.501436</td>\n",
              "      <td>7.132591</td>\n",
              "      <td>14.147298</td>\n",
              "      <td>64.665254</td>\n",
              "      <td>191.809254</td>\n",
              "      <td>4.079233</td>\n",
              "    </tr>\n",
              "    <tr>\n",
              "      <th>min</th>\n",
              "      <td>0.000000</td>\n",
              "      <td>1.262304e+18</td>\n",
              "      <td>0.000000</td>\n",
              "      <td>0.000000</td>\n",
              "      <td>0.000000</td>\n",
              "      <td>0.000000</td>\n",
              "      <td>0.000000</td>\n",
              "      <td>0.000000</td>\n",
              "    </tr>\n",
              "    <tr>\n",
              "      <th>25%</th>\n",
              "      <td>27.000000</td>\n",
              "      <td>1.315354e+18</td>\n",
              "      <td>18.200000</td>\n",
              "      <td>95.000000</td>\n",
              "      <td>49.000000</td>\n",
              "      <td>1011.300000</td>\n",
              "      <td>1006.900000</td>\n",
              "      <td>0.000000</td>\n",
              "    </tr>\n",
              "    <tr>\n",
              "      <th>50%</th>\n",
              "      <td>29.100000</td>\n",
              "      <td>1.368403e+18</td>\n",
              "      <td>20.500000</td>\n",
              "      <td>96.000000</td>\n",
              "      <td>55.000000</td>\n",
              "      <td>1013.400000</td>\n",
              "      <td>1009.400000</td>\n",
              "      <td>0.000000</td>\n",
              "    </tr>\n",
              "    <tr>\n",
              "      <th>75%</th>\n",
              "      <td>31.100000</td>\n",
              "      <td>1.421453e+18</td>\n",
              "      <td>22.100000</td>\n",
              "      <td>98.000000</td>\n",
              "      <td>62.000000</td>\n",
              "      <td>1016.500000</td>\n",
              "      <td>1012.400000</td>\n",
              "      <td>0.800000</td>\n",
              "    </tr>\n",
              "    <tr>\n",
              "      <th>max</th>\n",
              "      <td>37.200000</td>\n",
              "      <td>1.474502e+18</td>\n",
              "      <td>25.600000</td>\n",
              "      <td>100.000000</td>\n",
              "      <td>97.000000</td>\n",
              "      <td>1025.100000</td>\n",
              "      <td>1022.000000</td>\n",
              "      <td>58.000000</td>\n",
              "    </tr>\n",
              "  </tbody>\n",
              "</table>\n",
              "</div>"
            ],
            "text/plain": [
              "          max_temp          date  ...  min_air_pressure     max_prcp\n",
              "count  2457.000000  2.457000e+03  ...       2457.000000  2457.000000\n",
              "mean     28.861335  1.368403e+18  ...        972.107692     1.376720\n",
              "std       3.262210  6.129381e+16  ...        191.809254     4.079233\n",
              "min       0.000000  1.262304e+18  ...          0.000000     0.000000\n",
              "25%      27.000000  1.315354e+18  ...       1006.900000     0.000000\n",
              "50%      29.100000  1.368403e+18  ...       1009.400000     0.000000\n",
              "75%      31.100000  1.421453e+18  ...       1012.400000     0.800000\n",
              "max      37.200000  1.474502e+18  ...       1022.000000    58.000000\n",
              "\n",
              "[8 rows x 8 columns]"
            ]
          },
          "metadata": {},
          "execution_count": 59
        }
      ]
    },
    {
      "cell_type": "markdown",
      "metadata": {
        "id": "QvLwd5OFcPaT"
      },
      "source": [
        "Plot the graph depending on the air pressure, how many days has it rained?"
      ]
    },
    {
      "cell_type": "code",
      "metadata": {
        "colab": {
          "base_uri": "https://localhost:8080/",
          "height": 248
        },
        "id": "3Df02i40ViSG",
        "outputId": "432899e5-016a-41ba-97ed-27200731a701"
      },
      "source": [
        "sums = new.min_air_pressure.groupby(new['is_raining?']).sum()\n",
        "axis('equal');\n",
        "pie(sums, labels=sums.index);\n",
        "show()"
      ],
      "execution_count": 60,
      "outputs": [
        {
          "output_type": "display_data",
          "data": {
            "image/png": "[encoded data removed]",
            "text/plain": [
              "<Figure size 432x288 with 1 Axes>"
            ]
          },
          "metadata": {}
        }
      ]
    },
    {
      "cell_type": "markdown",
      "metadata": {
        "id": "MMEUxwD_cYAe"
      },
      "source": [
        "Plot the graph depending on humidity, how many days has it rained?"
      ]
    },
    {
      "cell_type": "code",
      "metadata": {
        "colab": {
          "base_uri": "https://localhost:8080/",
          "height": 248
        },
        "id": "8Sw6MW_dVNvc",
        "outputId": "c46b71ae-c98b-450c-ef38-73145054a7b3"
      },
      "source": [
        "sums = new.max_humid.groupby(new['is_raining?']).sum()\n",
        "axis('equal');\n",
        "pie(sums, labels=sums.index);\n",
        "show()"
      ],
      "execution_count": 61,
      "outputs": [
        {
          "output_type": "display_data",
          "data": {
            "image/png": "[encoded data removed]",
            "text/plain": [
              "<Figure size 432x288 with 1 Axes>"
            ]
          },
          "metadata": {}
        }
      ]
    },
    {
      "cell_type": "markdown",
      "metadata": {
        "id": "FdLdwaIGca2h"
      },
      "source": [
        "Plot the graph depending on temperature, how many days has it rained?"
      ]
    },
    {
      "cell_type": "code",
      "metadata": {
        "colab": {
          "base_uri": "https://localhost:8080/",
          "height": 248
        },
        "id": "GbUGLvOzQeKI",
        "outputId": "c0e64b30-c757-4987-c459-85143827cb01"
      },
      "source": [
        "sums = new.max_temp.groupby(new['is_raining?']).sum()\n",
        "axis('equal');\n",
        "pie(sums, labels=sums.index);\n",
        "show()"
      ],
      "execution_count": 62,
      "outputs": [
        {
          "output_type": "display_data",
          "data": {
            "image/png": "[encoded data removed]",
            "text/plain": [
              "<Figure size 432x288 with 1 Axes>"
            ]
          },
          "metadata": {}
        }
      ]
    },
    {
      "cell_type": "markdown",
      "metadata": {
        "id": "BRQNrCpXceP-"
      },
      "source": [
        "Create the data set to train the model"
      ]
    },
    {
      "cell_type": "code",
      "metadata": {
        "id": "McrZsTjPXlnn"
      },
      "source": [
        "X = new.drop(['max_prcp', 'is_raining?','city'], axis=1) #all columns except PRCP and RAIN, as both give the answer away.\n",
        "y = new['max_prcp']"
      ],
      "execution_count": 63,
      "outputs": []
    },
    {
      "cell_type": "markdown",
      "metadata": {
        "id": "7Rb0fy1-cjjr"
      },
      "source": [
        "Split the data into training and testing data"
      ]
    },
    {
      "cell_type": "code",
      "metadata": {
        "id": "qZN69CPTX4Gp"
      },
      "source": [
        "import sklearn\n",
        "from sklearn.model_selection import train_test_split\n",
        "X_train, X_test, y_train, y_test = train_test_split(X, y, test_size=0.2, random_state=42)\n"
      ],
      "execution_count": 64,
      "outputs": []
    },
    {
      "cell_type": "markdown",
      "metadata": {
        "id": "cQA3UfkucoOM"
      },
      "source": [
        "Check the training dataset"
      ]
    },
    {
      "cell_type": "code",
      "metadata": {
        "colab": {
          "base_uri": "https://localhost:8080/"
        },
        "id": "xkpr3lZnYXUb",
        "outputId": "06a596e9-4e44-40de-fa53-592164f49ac7"
      },
      "source": [
        "print(X_train.shape)"
      ],
      "execution_count": 65,
      "outputs": [
        {
          "output_type": "stream",
          "name": "stdout",
          "text": [
            "(1965, 7)\n"
          ]
        }
      ]
    },
    {
      "cell_type": "markdown",
      "metadata": {
        "id": "GMg6pnsNcrcY"
      },
      "source": [
        "Check the testing dataset"
      ]
    },
    {
      "cell_type": "code",
      "metadata": {
        "colab": {
          "base_uri": "https://localhost:8080/"
        },
        "id": "t7ivTZm5YaCr",
        "outputId": "2bcd80d8-1396-4222-c6a5-8037ec74c9e5"
      },
      "source": [
        "print(X_test.shape)"
      ],
      "execution_count": 66,
      "outputs": [
        {
          "output_type": "stream",
          "name": "stdout",
          "text": [
            "(492, 7)\n"
          ]
        }
      ]
    },
    {
      "cell_type": "markdown",
      "metadata": {
        "id": "nu7CZ8E0ctzC"
      },
      "source": [
        "Confirm the datatypes before modelling"
      ]
    },
    {
      "cell_type": "code",
      "metadata": {
        "colab": {
          "base_uri": "https://localhost:8080/"
        },
        "id": "5wCwJWFQbUXl",
        "outputId": "5f3ca4bf-3b7f-409c-888c-9c4e5af94351"
      },
      "source": [
        "X_train.dtypes"
      ],
      "execution_count": 67,
      "outputs": [
        {
          "output_type": "execute_result",
          "data": {
            "text/plain": [
              "max_temp            float64\n",
              "date                  int64\n",
              "min_temp            float64\n",
              "max_humid             int64\n",
              "min_humid             int64\n",
              "max_air_pressure    float64\n",
              "min_air_pressure    float64\n",
              "dtype: object"
            ]
          },
          "metadata": {},
          "execution_count": 67
        }
      ]
    },
    {
      "cell_type": "markdown",
      "metadata": {
        "id": "LxS4ZeC9cwxI"
      },
      "source": [
        "Use RandomForestRegressor to train the data"
      ]
    },
    {
      "cell_type": "code",
      "metadata": {
        "colab": {
          "base_uri": "https://localhost:8080/"
        },
        "id": "y-DzLZwxYhQw",
        "outputId": "844e61b4-af6a-4e72-bd8f-f9c6a5102c83"
      },
      "source": [
        "from sklearn.ensemble import RandomForestRegressor\n",
        "rf_model = RandomForestRegressor()\n",
        "rf_model.fit(X_train, y_train)"
      ],
      "execution_count": 76,
      "outputs": [
        {
          "output_type": "execute_result",
          "data": {
            "text/plain": [
              "RandomForestRegressor(bootstrap=True, ccp_alpha=0.0, criterion='mse',\n",
              "                      max_depth=None, max_features='auto', max_leaf_nodes=None,\n",
              "                      max_samples=None, min_impurity_decrease=0.0,\n",
              "                      min_impurity_split=None, min_samples_leaf=1,\n",
              "                      min_samples_split=2, min_weight_fraction_leaf=0.0,\n",
              "                      n_estimators=100, n_jobs=None, oob_score=False,\n",
              "                      random_state=None, verbose=0, warm_start=False)"
            ]
          },
          "metadata": {},
          "execution_count": 76
        }
      ]
    },
    {
      "cell_type": "markdown",
      "metadata": {
        "id": "quwKehZ_c96G"
      },
      "source": [
        "Calculate the scores"
      ]
    },
    {
      "cell_type": "code",
      "metadata": {
        "id": "EA7SXI2ZhPDN"
      },
      "source": [
        "def display_scores(scores):\n",
        "     print(\"Scores:\", scores)\n",
        "     print(\"Mean:\", scores.mean())\n",
        "     print(\"Standard deviation:\", scores.std())\n",
        "     print(\"\\n\")\n",
        "\n",
        "\n",
        "from sklearn.model_selection import cross_val_score\n",
        "import numpy\n",
        "\n",
        "\n",
        "scores = cross_val_score(rf_model, X_train, y_train, scoring=\"neg_mean_squared_error\", cv=10)\n",
        "rf_rmse_scores = numpy.sqrt(-scores)\n"
      ],
      "execution_count": 77,
      "outputs": []
    },
    {
      "cell_type": "markdown",
      "metadata": {
        "id": "hMtW4BLndDM1"
      },
      "source": [
        "Display the scores"
      ]
    },
    {
      "cell_type": "code",
      "metadata": {
        "colab": {
          "base_uri": "https://localhost:8080/"
        },
        "id": "TLiropz0hi-4",
        "outputId": "f36a453c-796c-4941-cab2-3c5da6a8f01e"
      },
      "source": [
        "display_scores(rf_rmse_scores)"
      ],
      "execution_count": 78,
      "outputs": [
        {
          "output_type": "stream",
          "name": "stdout",
          "text": [
            "Scores: [4.67346385 2.91173643 4.01601483 2.94436719 3.98362094 2.26264992\n",
            " 4.3417387  3.3236166  2.78156405 3.37319538]\n",
            "Mean: 3.4611967892876967\n",
            "Standard deviation: 0.7293697873044744\n",
            "\n",
            "\n"
          ]
        }
      ]
    },
    {
      "cell_type": "markdown",
      "metadata": {
        "id": "uL7UwobTdFbo"
      },
      "source": [
        "Test the model"
      ]
    },
    {
      "cell_type": "code",
      "metadata": {
        "id": "h6ZnGgaNh1Zk"
      },
      "source": [
        "def predictVsActuals(day):\n",
        "     precipPredictDay = X.loc[X['date'] == day]\n",
        "     precipPredictValue = round(rf_model.predict(precipPredictDay)[0], 3)\n",
        "\n",
        "\n",
        "     precipActual = weather.loc[wheather['date'] == day]\n",
        "     precipActualValue = round(precipActual.iloc[0][\"max_prcp\"], 3)\n",
        "\n",
        "     print(\"On\", precipActual.iloc[0][\"date\"], \"there was a high of\", precipActual.iloc[0][\"max_temp\"], \"and a low of\", precipActual.iloc[0][\"min_temp\"])\n",
        "     print(\"There were\", precipActualValue, \"inches of rainfall\")\n",
        "     print(\"We predicted\",precipPredictValue, \"inches of rainfall\")\n",
        "     print(\"we were off by \", round(abs(precipActualValue-precipPredictValue), 3), \"inches\")\n",
        "     print(\"\\n\")"
      ],
      "execution_count": 80,
      "outputs": []
    }
  ]
}